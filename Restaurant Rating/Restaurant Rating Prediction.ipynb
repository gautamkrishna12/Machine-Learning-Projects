{
 "cells": [
  {
   "cell_type": "code",
   "execution_count": null,
   "id": "4791454a-a8d5-4059-975c-d76cbf57b31c",
   "metadata": {},
   "outputs": [],
   "source": [
    "import pandas as pd\n",
    "import numpy as np\n",
    "import seaborn as sns\n",
    "import matplotlib.pyplot as plt"
   ]
  },
  {
   "cell_type": "code",
   "execution_count": null,
   "id": "c5f216a4-d2ba-4a79-8841-5cafc1efe9d1",
   "metadata": {},
   "outputs": [],
   "source": [
    "df=pd.read_csv('Dataset .csv')\n",
    "df.head()"
   ]
  },
  {
   "cell_type": "code",
   "execution_count": null,
   "id": "95b4e40d-2797-4d06-9c6f-f8c761325135",
   "metadata": {},
   "outputs": [],
   "source": [
    "df.shape"
   ]
  },
  {
   "cell_type": "code",
   "execution_count": null,
   "id": "c2777f11-0871-4524-ba3d-de673eb48cd3",
   "metadata": {},
   "outputs": [],
   "source": [
    "df.info()"
   ]
  },
  {
   "cell_type": "code",
   "execution_count": null,
   "id": "35308554-b20d-488a-88ed-5c54fdb60922",
   "metadata": {},
   "outputs": [],
   "source": [
    "df.isnull().sum()"
   ]
  },
  {
   "cell_type": "code",
   "execution_count": null,
   "id": "b1d0a8ae-712b-43b5-8ea9-6e8f86620ca9",
   "metadata": {},
   "outputs": [],
   "source": [
    "df.dropna(inplace=True)"
   ]
  },
  {
   "cell_type": "code",
   "execution_count": null,
   "id": "ee5c8e3a-efc8-4d36-a9a0-3183577ee2d3",
   "metadata": {},
   "outputs": [],
   "source": [
    "sns.histplot(df['Aggregate rating'],bins=40)"
   ]
  },
  {
   "cell_type": "code",
   "execution_count": null,
   "id": "f17c72c3-d1a7-4253-bab8-5e07e67cf7d1",
   "metadata": {},
   "outputs": [],
   "source": [
    "df['Rating text'].value_counts().plot(kind='pie',autopct='%1.0f%%')"
   ]
  },
  {
   "cell_type": "code",
   "execution_count": null,
   "id": "c3dcafda-423e-4197-b60a-ba4bf5b05901",
   "metadata": {},
   "outputs": [],
   "source": [
    "sns.boxplot(x='Rating text',y='Aggregate rating',data=df,hue='Rating text',palette='coolwarm')"
   ]
  },
  {
   "cell_type": "code",
   "execution_count": null,
   "id": "7d601849-d1d4-4db8-a3bc-cb4c5fabb725",
   "metadata": {},
   "outputs": [],
   "source": [
    "sns.jointplot(x='Aggregate rating',y='Votes',data=df,hue='Rating text')"
   ]
  },
  {
   "cell_type": "code",
   "execution_count": null,
   "id": "6b046b08-215e-4ecb-94c3-1ef1f4ee97ee",
   "metadata": {},
   "outputs": [],
   "source": [
    "df.describe()"
   ]
  },
  {
   "cell_type": "code",
   "execution_count": null,
   "id": "b45d0e9e-938d-402e-8b59-d721c1f7afb4",
   "metadata": {},
   "outputs": [],
   "source": [
    "sns.barplot(df['Country Code'].value_counts())"
   ]
  },
  {
   "cell_type": "code",
   "execution_count": null,
   "id": "42fd409a-49cb-44ac-bdeb-c7e39e2de49a",
   "metadata": {},
   "outputs": [],
   "source": [
    "df['City'].nunique()"
   ]
  },
  {
   "cell_type": "code",
   "execution_count": null,
   "id": "a5277e39-bf0e-4bf2-a60e-80b3988eea90",
   "metadata": {},
   "outputs": [],
   "source": [
    "Top10_city=df['City'].value_counts().head(10)\n",
    "Top10_city"
   ]
  },
  {
   "cell_type": "code",
   "execution_count": null,
   "id": "66e7c470-f800-4e8a-aaf5-e84acb013a4b",
   "metadata": {},
   "outputs": [],
   "source": [
    "plt.figure(figsize=(12,6))\n",
    "sns.barplot(Top10_city)"
   ]
  },
  {
   "cell_type": "code",
   "execution_count": null,
   "id": "afa97e06-b92e-4313-934d-cd5535b72bb1",
   "metadata": {},
   "outputs": [],
   "source": [
    "df['Cuisines'].nunique()"
   ]
  },
  {
   "cell_type": "code",
   "execution_count": null,
   "id": "a1edcb6a-f154-489f-9cd9-13d0a4f777ed",
   "metadata": {},
   "outputs": [],
   "source": [
    "Top10_Cuisines=df['Cuisines'].value_counts().head(5)\n",
    "plt.figure(figsize=(12,6))\n",
    "sns.barplot(Top10_Cuisines)"
   ]
  },
  {
   "cell_type": "code",
   "execution_count": null,
   "id": "59e6f161-0ca3-4dda-aaba-654332fb63c4",
   "metadata": {},
   "outputs": [],
   "source": [
    "plt.figure(figsize=(4,3))\n",
    "sns.barplot(df['Price range'].value_counts())"
   ]
  },
  {
   "cell_type": "code",
   "execution_count": null,
   "id": "770f1f77-68fc-471e-94d1-0c6db5a85aa7",
   "metadata": {},
   "outputs": [],
   "source": [
    "plt.figure(figsize=(6,5))\n",
    "df['Country Code'].value_counts().plot(kind='bar')"
   ]
  },
  {
   "cell_type": "code",
   "execution_count": null,
   "id": "68d2d16b-4f97-4d56-aba4-a656e52a10f2",
   "metadata": {},
   "outputs": [],
   "source": [
    "#Top 5 City with heighest number of restaurants\n",
    "df['City'].value_counts().head(5)"
   ]
  },
  {
   "cell_type": "code",
   "execution_count": null,
   "id": "fe885c14-3338-463f-9372-5ad4984fadc6",
   "metadata": {},
   "outputs": [],
   "source": [
    "#Top 5 Cuisines \n",
    "df['Cuisines'].value_counts().head(5)"
   ]
  },
  {
   "cell_type": "code",
   "execution_count": null,
   "id": "f8252088-09e4-4e98-94a2-5b8444b0beae",
   "metadata": {},
   "outputs": [],
   "source": [
    "plt.figure(figsize=(5,4))\n",
    "correlation = df[['Latitude', 'Longitude','Country Code','Aggregate rating']].corr()\n",
    "sns.heatmap(correlation,annot=True,cmap='coolwarm')"
   ]
  },
  {
   "cell_type": "code",
   "execution_count": null,
   "id": "527bde5a-67fe-4f51-b304-8e9ca4b90510",
   "metadata": {},
   "outputs": [],
   "source": [
    "#Most common price range\n",
    "df['Price range'].value_counts().head(1)"
   ]
  },
  {
   "cell_type": "code",
   "execution_count": null,
   "id": "d4849cd1-4d13-4b7e-9aa8-58d04e862ca1",
   "metadata": {},
   "outputs": [],
   "source": [
    "#Average rating for each price range.\n",
    "print(\"Average rating for each price range.\\n\")\n",
    "Rating_on_price=df[['Aggregate rating','Price range']].groupby(\"Price range\").mean()\n",
    "Rating_on_price"
   ]
  },
  {
   "cell_type": "code",
   "execution_count": null,
   "id": "5f1f24db-2c6b-4c8e-bace-daaaeedc607d",
   "metadata": {},
   "outputs": [],
   "source": [
    "df['Has Table booking']=df['Has Table booking'].apply(lambda s: 1 if s=='Yes' else 0)\n",
    "df['Has Online delivery']=df['Has Online delivery'].apply(lambda s: 1 if s=='Yes' else 0)\n",
    "df['Is delivering now']=df['Is delivering now'].apply(lambda s: 1 if s=='Yes' else 0)\n",
    "df['Switch to order menu']=df['Switch to order menu'].apply(lambda s: 1 if s=='Yes' else 0)"
   ]
  },
  {
   "cell_type": "code",
   "execution_count": null,
   "id": "7993bc62-0e40-4b7e-8782-5d657eca7ad9",
   "metadata": {},
   "outputs": [],
   "source": [
    "df.head()"
   ]
  },
  {
   "cell_type": "code",
   "execution_count": null,
   "id": "dfc6b7aa-7b18-4c24-ae6a-5914a877f8da",
   "metadata": {},
   "outputs": [],
   "source": [
    "df.drop(['Restaurant ID','Restaurant Name','Country Code','City','Address','Locality','Locality Verbose','Longitude','Latitude','Switch to order menu','Rating color','Currency','Rating text','Votes'],axis=1,inplace=True)"
   ]
  },
  {
   "cell_type": "code",
   "execution_count": null,
   "id": "16adfd2a-c920-4ae9-83f5-f7088ac8f7ef",
   "metadata": {},
   "outputs": [],
   "source": [
    "from sklearn.preprocessing import LabelEncoder\n",
    "encoder=LabelEncoder()\n",
    "df['Cuisines']=encoder.fit_transform(df['Cuisines'])"
   ]
  },
  {
   "cell_type": "code",
   "execution_count": null,
   "id": "e7a2ede8-3785-4167-8563-5777dd9066bf",
   "metadata": {},
   "outputs": [],
   "source": [
    "df.head()"
   ]
  },
  {
   "cell_type": "code",
   "execution_count": null,
   "id": "b6cc13cb-e97e-4d9d-932d-c03f3c18d273",
   "metadata": {},
   "outputs": [],
   "source": [
    "from sklearn.model_selection import train_test_split\n",
    "from sklearn.metrics import mean_absolute_error,mean_squared_error"
   ]
  },
  {
   "cell_type": "code",
   "execution_count": null,
   "id": "937ce40a-b430-4196-9550-5594db906a61",
   "metadata": {},
   "outputs": [],
   "source": [
    "X=df.drop('Aggregate rating',axis=1)\n",
    "y=df['Aggregate rating']"
   ]
  },
  {
   "cell_type": "code",
   "execution_count": null,
   "id": "e32c6709-563e-41f0-a524-3408282a6609",
   "metadata": {},
   "outputs": [],
   "source": [
    "X_train,X_test,y_train,y_test=train_test_split(X,y,test_size=0.3,random_state=42)"
   ]
  },
  {
   "cell_type": "code",
   "execution_count": null,
   "id": "e7eaf880-942c-4ddf-92eb-33a3d7bf1157",
   "metadata": {},
   "outputs": [],
   "source": [
    "#Creating a Linear Regression model\n",
    "from sklearn.linear_model import LinearRegression\n",
    "model1=LinearRegression()\n",
    "model1.fit(X_train,y_train)\n",
    "pred1=model1.predict(X_test)"
   ]
  },
  {
   "cell_type": "code",
   "execution_count": null,
   "id": "269f017f-3b24-4edc-8d26-e05ad137eadc",
   "metadata": {},
   "outputs": [],
   "source": [
    "#Evaluating the Linear Regression model\n",
    "print(f\"Mean absolute error : {mean_absolute_error(y_test,pred1)}\")\n",
    "print(f\"\\nMean Squared Error : {mean_squared_error(y_test,pred1)}\") \n",
    "print(f\"\\nRoot Mean Squared Error : {np.sqrt(mean_squared_error(y_test,pred1))}\") "
   ]
  },
  {
   "cell_type": "code",
   "execution_count": null,
   "id": "3a8dce5e-e3e9-48bf-9376-bef74f9ad4f6",
   "metadata": {},
   "outputs": [],
   "source": [
    "#Creating a decision tree model\n",
    "from sklearn.tree import DecisionTreeRegressor,plot_tree\n",
    "model2=DecisionTreeRegressor(random_state=1)\n",
    "model2.fit(X_train,y_train)\n",
    "pred2=model2.predict(X_test)"
   ]
  },
  {
   "cell_type": "code",
   "execution_count": null,
   "id": "b66aef79-5219-4ea4-ad11-31014f8d6ec0",
   "metadata": {},
   "outputs": [],
   "source": [
    "#Evaluating the decision tree model\n",
    "print(f\"Mean absolute error : {mean_absolute_error(y_test,pred2)}\")\n",
    "print(f\"\\nMean Squared Error : {mean_squared_error(y_test,pred2)}\") \n",
    "print(f\"\\nRoot Mean Squared Error : {np.sqrt(mean_squared_error(y_test,pred2))}\") "
   ]
  },
  {
   "cell_type": "code",
   "execution_count": null,
   "id": "a0506517-2468-41ec-aa22-80d1f0e48221",
   "metadata": {},
   "outputs": [],
   "source": [
    "#Creating a Random forest model\n",
    "from sklearn.ensemble import RandomForestRegressor\n",
    "model3=RandomForestRegressor(random_state=1)\n",
    "model3.fit(X_train,y_train)\n",
    "pred3=model3.predict(X_test)"
   ]
  },
  {
   "cell_type": "code",
   "execution_count": null,
   "id": "86ae93fc-7f3a-44c5-9999-b12c049276d1",
   "metadata": {},
   "outputs": [],
   "source": [
    "#Evaluating the Random forest model\n",
    "print(f\"Mean absolute error : {mean_absolute_error(y_test,pred3)}\")\n",
    "print(f\"\\nMean Squared Error : {mean_squared_error(y_test,pred3)}\") \n",
    "print(f\"\\nRoot Mean Squared Error : {np.sqrt(mean_squared_error(y_test,pred3))}\") "
   ]
  },
  {
   "cell_type": "code",
   "execution_count": null,
   "id": "f1d34b20-e588-4d3f-a195-d4f56b3a7ee1",
   "metadata": {},
   "outputs": [],
   "source": [
    "#The random forest model shows less error when compared to the other two models."
   ]
  },
  {
   "cell_type": "code",
   "execution_count": null,
   "id": "c9151a99-90ae-438e-ba2a-028536047858",
   "metadata": {},
   "outputs": [],
   "source": []
  }
 ],
 "metadata": {
  "kernelspec": {
   "display_name": "Python 3 (ipykernel)",
   "language": "python",
   "name": "python3"
  },
  "language_info": {
   "codemirror_mode": {
    "name": "ipython",
    "version": 3
   },
   "file_extension": ".py",
   "mimetype": "text/x-python",
   "name": "python",
   "nbconvert_exporter": "python",
   "pygments_lexer": "ipython3",
   "version": "3.11.7"
  }
 },
 "nbformat": 4,
 "nbformat_minor": 5
}
